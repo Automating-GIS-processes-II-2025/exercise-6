{
 "cells": [
  {
   "cell_type": "markdown",
   "metadata": {
    "deletable": false
   },
   "source": [
    "# Problem 1: Temperature Map (8 points)\n",
    "\n",
    "In this problem, we will work with raster data from the [Finnish Meteorological Institute (FMI)](https://en.ilmatieteenlaitos.fi/), which contains daily average temperatures stored in 10 km by 10 km raster cells. For each year, there is one raster file (we will only work with data from the year 2023), and it contains 365 raster bands—each representing one day of the year, starting from January through to the end of December.\n",
    "\n",
    "In this exercise, we will work with the raster bands, extract the necessary information, and perform raster calculations.\n"
   ]
  },
  {
   "cell_type": "markdown",
   "metadata": {},
   "source": [
    "## (1a) - Read the raster data (1 point)\n",
    "\n",
    "As the first step read the raster file from data directory `data/tday_2023.tif`. Print the raster metadata. "
   ]
  },
  {
   "cell_type": "code",
   "execution_count": null,
   "metadata": {
    "deletable": false
   },
   "outputs": [],
   "source": []
  },
  {
   "cell_type": "markdown",
   "metadata": {},
   "source": [
    "## (1b) - Maximum temperatures per day (2 points)\n",
    "\n",
    "We aim to extract the maximum temperature across the country for each day of summer. Since each day's data is stored as a raster band, we need to iterate through the bands to the desired value — the maximum temperature for that day (i.e., the highest pixel value) from the relevant bands. We will do this only for the Summer, which spans from June 1st (the 152nd day of the year) to August 31st (the 243rd day of the year). \n",
    "\n",
    "For each day, print the day number and the maximum temperature using a f-string formatted to two decimal places, like so: `On summer day number --, the maximum temperature in the country is: --`."
   ]
  },
  {
   "cell_type": "code",
   "execution_count": null,
   "metadata": {},
   "outputs": [],
   "source": []
  },
  {
   "cell_type": "markdown",
   "metadata": {},
   "source": [
    "which summer day was the hottest? Just type in the day number in the cell below."
   ]
  },
  {
   "cell_type": "code",
   "execution_count": null,
   "metadata": {},
   "outputs": [],
   "source": [
    "# The hottest summer day, just type in the day number as integrer (and not the date)\n",
    "day_number = 0  #replace 0 with the correct value"
   ]
  },
  {
   "cell_type": "markdown",
   "metadata": {},
   "source": [
    "## (1c) - Work with the \"hot\" raster band (4 points)\n",
    "\n",
    "Select the band with the hotetst temperature and store it under the variable name `hot_day_raster`. (1 point)"
   ]
  },
  {
   "cell_type": "code",
   "execution_count": null,
   "metadata": {},
   "outputs": [],
   "source": [
    "# select your raster band here\n"
   ]
  },
  {
   "cell_type": "markdown",
   "metadata": {},
   "source": [
    "Then run the following cell to mask out the null values from your raster."
   ]
  },
  {
   "cell_type": "code",
   "execution_count": null,
   "metadata": {},
   "outputs": [],
   "source": [
    "import xarray as xr\n",
    "import numpy as np\n",
    "\n",
    "hot_day_raster = xr.where(hot_day_raster >= 0, hot_day_raster, np.nan)"
   ]
  },
  {
   "cell_type": "markdown",
   "metadata": {},
   "source": [
    "Then calculate the following for the selected day (use the same variable names as below): (2 points)\n",
    "\n",
    "- `average_temp`: a float representing the average temperature.\n",
    "- A printed temperature range f-string formatted as: `\"Temperature is ranging between -- and --\"`, with both values rounded to two decimal places."
   ]
  },
  {
   "cell_type": "code",
   "execution_count": null,
   "metadata": {},
   "outputs": [],
   "source": []
  },
  {
   "cell_type": "markdown",
   "metadata": {},
   "source": [
    "Now plot your hot day raster. (1 point)"
   ]
  },
  {
   "cell_type": "code",
   "execution_count": null,
   "metadata": {},
   "outputs": [],
   "source": []
  },
  {
   "cell_type": "markdown",
   "metadata": {},
   "source": [
    "## (1d) - Convert the temperature unit and plot (1 point)\n",
    "\n",
    "Next, we want to convert the temperatures to degrees Fahrenheit and plot the resulting raster. Name the output raster `hot_day_fahr`.\n",
    "\n",
    "As we probably remember well from the first period, the conversion formula from Celsius to Fahrenheit is given by:\n",
    "\n",
    "$$\n",
    "T_{\\text{Fahrenheit}} = T_{\\text{Celsius}} \\times \\frac{9}{5} + 32\n",
    "$$\n",
    "\n",
    "Finally, plot the `hot_day_fahr` raster.\n"
   ]
  },
  {
   "cell_type": "code",
   "execution_count": null,
   "metadata": {},
   "outputs": [],
   "source": []
  },
  {
   "cell_type": "code",
   "execution_count": null,
   "metadata": {},
   "outputs": [],
   "source": []
  }
 ],
 "metadata": {
  "anaconda-cloud": {},
  "kernelspec": {
   "display_name": "Python 3 (ipykernel)",
   "language": "python",
   "name": "python3"
  },
  "language_info": {
   "codemirror_mode": {
    "name": "ipython",
    "version": 3
   },
   "file_extension": ".py",
   "mimetype": "text/x-python",
   "name": "python",
   "nbconvert_exporter": "python",
   "pygments_lexer": "ipython3",
   "version": "3.11.7"
  }
 },
 "nbformat": 4,
 "nbformat_minor": 4
}
