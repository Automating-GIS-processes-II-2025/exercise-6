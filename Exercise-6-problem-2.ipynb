{
 "cells": [
  {
   "cell_type": "markdown",
   "metadata": {
    "deletable": false
   },
   "source": [
    "## Problem 2: Calculating NDVI (12 points)\n",
    "\n",
    "In this problem, we will work with the same satellite imagery data as we used during the lesson. Specifically, we will explore the Sentinel-2 satellite image from Nuuksio National Park in Finland. The data is obtained from the [Copernicus Data Space Ecosystem](https://dataspace.copernicus.eu). Our objective is to explore, process the data, and ultimately calculate the NDVI (Normalized Difference Vegetation Index).\n",
    "\n",
    "### What is NDVI?\n",
    "\n",
    "NDVI (Normalized Difference Vegetation Index) is a simple, widely used index for assessing vegetation health and coverage based on satellite imagery. NDVI is calculated by comparing the Near Infrared (NIR) and Red bands of satellite data. Vegetation reflects more NIR light and absorbs more visible red light, so the NDVI value provides insight into the density and health of vegetation.\n",
    "\n",
    "The formula to calculate NDVI is:\n",
    "\n",
    "$$\n",
    "NDVI = \\frac{(NIR - Red)}{(NIR + Red)}\n",
    "$$\n",
    "\n",
    "- **NIR (Near Infrared)** corresponds to Band 8 for Sentinel-2 imagery.\n",
    "- **Red** corresponds to Band 4 for Sentinel-2 imagery.\n",
    "\n",
    "NDVI values range from -1 to +1, where higher values indicate healthier and denser vegetation.\n",
    "\n",
    "### Sentinel-2 Band Reference\n",
    "\n",
    "For Sentinel-2 imagery, the bands are predefined and consistent across products. Here is a quick reference for the Sentinel-2 bands:\n",
    "\n",
    "| **Band**   | **Description**                     | **Wavelength (nm)** |\n",
    "|------------|-------------------------------------|---------------------|\n",
    "| Band 1     | Coastal aerosol                     | 443 nm              |\n",
    "| Band 2     | Blue                                | 490 nm              |\n",
    "| Band 3     | Green                               | 560 nm              |\n",
    "| Band 4     | Red                                 | 665 nm              |\n",
    "| Band 5     | Vegetation Red Edge                 | 705 nm              |\n",
    "| Band 6     | Vegetation Red Edge                 | 740 nm              |\n",
    "| Band 7     | Vegetation Red Edge                 | 783 nm              |\n",
    "| Band 8     | Near Infrared                       | 842 nm              |\n",
    "| Band 8A    | Narrow Near Infrared                | 865 nm              |\n",
    "| Band 9     | Water Vapor                         | 945 nm              |\n",
    "| Band 10    | Short-Wave Infrared – Cirrus        | 1375 nm             |\n",
    "| Band 11    | Short-Wave Infrared                 | 1610 nm             |\n",
    "| Band 12    | Short-Wave Infrared                 | 2190 nm             |"
   ]
  },
  {
   "cell_type": "markdown",
   "metadata": {},
   "source": [
    "## (2a) - Read the raster and get the metadata (1 point)\n",
    "\n",
    "As the first step read the raster file from data directory `data/sentinel2_Nuuksio_small.tif` as `sentinel_raster`. Provide the following information from the raster (use the same variable names and format):\n",
    "\n",
    "```\n",
    "data_crs = \"the CRS of our raster data\"\n",
    "resolution = \"as string in this format X*Y\"\n",
    "total_pixels = \"total number of pixels across all bands as integer\"\n",
    "```\n",
    "\n",
    "Remember to print the values. "
   ]
  },
  {
   "cell_type": "code",
   "execution_count": null,
   "metadata": {
    "deletable": false
   },
   "outputs": [],
   "source": [
    "# ADD YOUR OWN CODE HERE\n"
   ]
  },
  {
   "cell_type": "markdown",
   "metadata": {},
   "source": [
    "## (2b) - Map NIR and RED bands (2 points)\n",
    "\n",
    "Visualize the Near Infrared (NIR) and Red bands as individual raster plots (use subplots). You can decide what color you want to us efor your visulizations. "
   ]
  },
  {
   "cell_type": "code",
   "execution_count": null,
   "metadata": {},
   "outputs": [],
   "source": []
  },
  {
   "cell_type": "markdown",
   "metadata": {},
   "source": [
    "## (2c) - Calculate the NDVI (5 points)\n",
    "\n",
    "Calculate the NDVI using the formula provided above. Store the resulting raster as `NDVI` and export it as a `.tif` file. Finally, plot the NDVI raster. \n"
   ]
  },
  {
   "cell_type": "code",
   "execution_count": null,
   "metadata": {},
   "outputs": [],
   "source": []
  },
  {
   "cell_type": "markdown",
   "metadata": {},
   "source": [
    "## (2d) - Reclassify the NDVI raster (4 points)\n",
    "\n",
    "In this task, you will reclassify the NDVI values into distinct vegetation categories and visualize the result.\n",
    "\n",
    "1. **Reclassify the NDVI values**: \n",
    "   - Create the following NDVI classification:\n",
    "     - NDVI < 0.2: **Non-Vegetated**\n",
    "     - 0.2 ≤ NDVI < 0.5: **Sparse Vegetation**\n",
    "     - 0.5 ≤ NDVI: **Dense Vegetation**\n",
    "   - Use appropriate values to represent each class (1 for Non-Vegetated, 2 for Sparse Vegetation, 3 for Dense Vegetation).\n",
    "\n",
    "2. **Visualize the Reclassified NDVI**: \n",
    "   - Plot the reclassified NDVI using a discrete color map where each class has a distinct color.\n",
    "   - Use a suitable color scheme to clearly differentiate between the classes (e.g., brown for Non-Vegetated, yellow for Sparse Vegetation, green for Dense Vegetation).\n",
    "\n",
    "\n"
   ]
  },
  {
   "cell_type": "code",
   "execution_count": null,
   "metadata": {},
   "outputs": [],
   "source": []
  },
  {
   "cell_type": "markdown",
   "metadata": {},
   "source": [
    "### **Answer these questions**:\n",
    "   - Q1: How does the distribution of vegetation classes compare across the area?\n",
    "   - Q2: Are there more areas with sparse or dense vegetation?"
   ]
  },
  {
   "cell_type": "markdown",
   "metadata": {},
   "source": [
    "-- Your answers\n"
   ]
  },
  {
   "cell_type": "markdown",
   "metadata": {},
   "source": [
    "## (2e) Optional Raster value histogram - (0 point)\n",
    "\n",
    "Use your previous skills with `matplotlib` to create a histogram of the raster values from the original NDVI raster (before reclassification). The histogram should visualize the distribution of NDVI values across the dataset, providing insights into the spread and frequency of different vegetation index values. Customize the bins and labels as needed to make the plot clear and informative.\n"
   ]
  },
  {
   "cell_type": "code",
   "execution_count": null,
   "metadata": {},
   "outputs": [],
   "source": []
  }
 ],
 "metadata": {
  "anaconda-cloud": {},
  "kernelspec": {
   "display_name": "Python 3 (ipykernel)",
   "language": "python",
   "name": "python3"
  },
  "language_info": {
   "codemirror_mode": {
    "name": "ipython",
    "version": 3
   },
   "file_extension": ".py",
   "mimetype": "text/x-python",
   "name": "python",
   "nbconvert_exporter": "python",
   "pygments_lexer": "ipython3",
   "version": "3.11.7"
  }
 },
 "nbformat": 4,
 "nbformat_minor": 4
}
